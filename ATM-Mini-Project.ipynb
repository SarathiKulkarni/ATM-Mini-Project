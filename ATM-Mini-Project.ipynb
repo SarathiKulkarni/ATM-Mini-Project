{
 "cells": [
  {
   "cell_type": "code",
   "execution_count": null,
   "id": "94a28b12-365e-4ecb-8dd1-903c10f0a5c7",
   "metadata": {},
   "outputs": [],
   "source": [
    "class ATM:\n",
    "    def __init__(self):   # constructor\n",
    "        self.pin=''#variable\n",
    "        self.balance=0 # variable\n",
    "        self.menu()#function call \n",
    "    def menu(self):\n",
    "        user_input=input(\n",
    "            \"\"\" \n",
    "            How can I help you ?\n",
    "            1.Press 1 to create pin \n",
    "            2.Press 2 to change pin \n",
    "            3.Press 3 to check balance\n",
    "            4.Press 4 to withdraw\n",
    "            5.Press 5 to Exit\n",
    "            \"\"\"\n",
    "        )\n",
    "\n",
    "        if user_input=='1':\n",
    "            self.create_pin() # method\n",
    "        elif user_input=='2':\n",
    "            \n",
    "            self.change_pin() \n",
    "        elif user_input=='3':\n",
    "            \n",
    "            self.check_balance()\n",
    "        elif user_input=='4':\n",
    "            \n",
    "            self.withdraw()\n",
    "        else:\n",
    "            exit()\n",
    "            print(\"ThankYou For Banking With Us!\")\n",
    "\n",
    "    def create_pin(self):\n",
    "        self.pin=input(\"Enter the pin:\")\n",
    "        self.balance=int(input(\"Enter the balance:\"))\n",
    "        print(\"Pin Created Successfully:\")\n",
    "        self.menu()\n",
    "    def change_pin(self):\n",
    "        old_pin=input(\"Enter the old pin:\")\n",
    "        if old_pin==self.pin:\n",
    "            new_pin=input(\"Enter the new pin:\")\n",
    "        self.pin=new_pin\n",
    "        print(\"Pin changed Successfully:\")\n",
    "        self.menu()\n",
    "    def check_balance(self):\n",
    "        pin1=input(\"Enter the pin\")\n",
    "        if pin1==self.pin:\n",
    "            print(self.balance)\n",
    "        else:\n",
    "            print(\"Entered pin is incorrect\")\n",
    "        self.menu()\n",
    "    def withdraw(self):\n",
    "        Pin=input(\"Enter the pin:\")\n",
    "\n",
    "        if Pin==self.pin:\n",
    "            amount=int(input(\"Enter the amount which you want to withdraw:\"))\n",
    "            if amount<self.balance:\n",
    "                self.balance=self.balance-amount\n",
    "                print (\"Availabel Balance=\",self.balance)\n",
    "            else:\n",
    "                print(\"You have Insufficient balance\")\n",
    "        else:\n",
    "            print(\"Incorrect pin\")\n",
    "        \n"
   ]
  },
  {
   "cell_type": "code",
   "execution_count": null,
   "id": "b51a8d7e-4aeb-474b-810d-29012f8ddc51",
   "metadata": {},
   "outputs": [],
   "source": [
    "obj=Atm()"
   ]
  }
 ],
 "metadata": {
  "kernelspec": {
   "display_name": "Python 3 (ipykernel)",
   "language": "python",
   "name": "python3"
  },
  "language_info": {
   "codemirror_mode": {
    "name": "ipython",
    "version": 3
   },
   "file_extension": ".py",
   "mimetype": "text/x-python",
   "name": "python",
   "nbconvert_exporter": "python",
   "pygments_lexer": "ipython3",
   "version": "3.11.7"
  }
 },
 "nbformat": 4,
 "nbformat_minor": 5
}
